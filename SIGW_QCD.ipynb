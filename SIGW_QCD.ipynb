{
 "cells": [
  {
   "cell_type": "markdown",
   "id": "aa54b636-4426-4df0-b3ab-dc90529f8709",
   "metadata": {},
   "source": [
    "# Preamble"
   ]
  },
  {
   "cell_type": "code",
   "execution_count": 1,
   "id": "3e314dfb-0842-49d3-8e5c-e66727cede31",
   "metadata": {},
   "outputs": [],
   "source": [
    "using Plots\n",
    "using SymPy"
   ]
  },
  {
   "cell_type": "code",
   "execution_count": 2,
   "id": "aa359675-8a63-4ec1-bd4a-6f480ae3e596",
   "metadata": {
    "tags": []
   },
   "outputs": [],
   "source": [
    "Mpl = 2.435e18; # reduced Planck mass in GeV\n",
    "c = 299792458; # speed of light in m/s\n",
    "KinGeV = (1.160e4)^-1 * 10^-9; # Kelvin in GeV\n",
    "Mpcinm = 3.086e16 * 10^6; # Mpc in m\n",
    "GeVinminv = 10^9/(1.973e-7); # GeV in m^-1\n",
    "GeVinMpcinv = GeVinminv * Mpcinm; # GeV in Mpc^-1\n",
    "MpcinvinHz = c/Mpcinm; # Mpc^inv in Hz\n",
    "yrins = 365.2422 * 24 * 60 * 60; # yr in s\n",
    "\n",
    "Or0h2 = 4.2e-5; # current radiation density parameter * h^2\n",
    "Hubblh = 0.674; # normalised Hubble parameter h"
   ]
  },
  {
   "cell_type": "markdown",
   "id": "b91a93cd-5dfa-4380-ab41-d1ff057c27af",
   "metadata": {
    "tags": []
   },
   "source": [
    "# Background"
   ]
  },
  {
   "cell_type": "code",
   "execution_count": 3,
   "id": "c624efd8-cb94-4877-a869-ae41cc37b580",
   "metadata": {
    "tags": []
   },
   "outputs": [],
   "source": [
    "ai = [1, 1.11724, 3.12672e-1, -4.68049e-2, -2.65004e-2, -1.19760e-3, 1.82812e-4, 1.36436e-4, 8.55051e-5, 1.22840e-5, 3.82259e-7, -6.87035e-9];\n",
    "bi = [1.43382e-2, 1.37559e-2, 2.92108e-3, -5.38533e-4, -1.62496e-4, -2.87906e-5, -3.84278e-6, 2.78776e-6, 7.40342e-7, 1.17210e-7, 3.72499e-9, -6.74107e-11];\n",
    "ci = [1, 6.07869e-1, -1.54485e-1, -2.24034e-1, -2.82147e-2, 2.90620e-2, 6.86778e-3, -1.00005e-3, -1.69104e-4, 1.06301e-5, 1.69528e-6, -9.33311e-8];\n",
    "di = [7.07388e1, 9.18011e1, 3.31892e1, -1.39779, -1.52558, -1.97857e-2, -1.60146e-1, 8.22615e-5, 2.02651e-2, -1.82134e-5, 7.83943e-5, 7.13518e-5];"
   ]
  },
  {
   "cell_type": "code",
   "execution_count": 4,
   "id": "6884833b-094e-43da-b368-62bc61480921",
   "metadata": {},
   "outputs": [],
   "source": [
    "Tth = 0.12; # temperature separation in GeV"
   ]
  },
  {
   "cell_type": "code",
   "execution_count": 5,
   "id": "ccac9237-195e-4ff3-89cb-91d5d35041a0",
   "metadata": {
    "tags": []
   },
   "outputs": [],
   "source": [
    "grhohigh(T) = sum([ai[i]*log(T)^(i - 1) for i=1:12]) / sum([bi[i]*log(T)^(i - 1) for i=1:12]); # eff. DoF for energy density for T > 0.12 GeV\n",
    "gshigh(T) = grhohigh(T) / (1 + sum([ci[i]*log(T)^(i - 1) for i=1:12])) / sum([di[i]*log(T)^(i - 1) for i=1:12]); # eff. DoF for entropy for T > 0.12 GeV"
   ]
  },
  {
   "cell_type": "code",
   "execution_count": 6,
   "id": "fb8c897e-71cc-48e7-bd4b-54454ece2f92",
   "metadata": {
    "tags": []
   },
   "outputs": [],
   "source": [
    "rhohigh(T) = π^2/30*grhohigh(T)*T^4; # energy density for T > 0.12 GeV\n",
    "shigh(T) = 2*π^2/45*gshigh(T)*T^3; # entropy for T > 0.12 GeV\n",
    "phigh(T) = T*shigh(T) - rhohigh(T); # pressure for T > 0.12 GeV"
   ]
  },
  {
   "cell_type": "code",
   "execution_count": 7,
   "id": "3e9b7e49-653f-430c-a2ee-215e157c9248",
   "metadata": {},
   "outputs": [],
   "source": [
    "# some fitting functions\n",
    "Sfit(x) = 1 + 7/4*exp(-1.0419*x) * (1 + 1.034*x + 0.456426*x^2 + 0.0595249*x^3);\n",
    "frho(x) = exp(-1.04855*x) * (1 + 1.03757*x + 0.508630*x^2 + 0.0893988*x^3);\n",
    "brho(x) = exp(-1.03149*x) * (1 + 1.03317*x + 0.398264*x^2 + 0.0648056*x^3);\n",
    "fs(x) = exp(-1.04190*x) * (1 + 1.03400*x + 0.456426*x^2 + 0.0595248*x^3);\n",
    "bs(x) = exp(-1.03365*x) * (1 + 1.03397*x + 0.342548*x^2 + 0.0506182*x^3);"
   ]
  },
  {
   "cell_type": "code",
   "execution_count": 8,
   "id": "7fb56ee4-52eb-4f55-9b97-719a62442fb3",
   "metadata": {},
   "outputs": [],
   "source": [
    "# mass params. in GeV\n",
    "me = 511e-6;\n",
    "mmu = 0.1056;\n",
    "mpi0 = 0.13;\n",
    "mpipm = 0.140;\n",
    "m1 = 0.5;\n",
    "m2 = 0.77;\n",
    "m3 = 1.2;\n",
    "m4 = 2;"
   ]
  },
  {
   "cell_type": "code",
   "execution_count": 9,
   "id": "a90b9763-9a4a-42c2-83bb-f20a212c3aed",
   "metadata": {},
   "outputs": [],
   "source": [
    "# neutrino temperature\n",
    "Tnu(T) = (4/11)^(1/3) * Sfit(me/T)^(1/3) * T;"
   ]
  },
  {
   "cell_type": "code",
   "execution_count": 10,
   "id": "33b7e123-8436-4e50-aaff-025455354738",
   "metadata": {},
   "outputs": [],
   "source": [
    "grhogammalow(T) = 2.030 + 3.495*frho(me/T) + 3.446*frho(mmu/T) + 1.05*brho(mpi0/T) + 2.08*brho(mpipm/T) + 4.165*brho(m1/T) + 30.55*brho(m2/T) + 89.4*brho(m3/T) + 8209*brho(m4/T); # eff. DoF for photon energy density for T < 0.12 GeV\n",
    "gsgammalow(T) = 2.008 + 3.442*fs(me/T) + 3.468*fs(mmu/T) + 1.034*bs(mpi0/T) + 2.068*bs(mpipm/T) + 4.16*bs(m1/T) + 30.55*bs(m2/T) + 90*bs(m3/T) + 6209*bs(m4/T); # eff. DoF for photon entropy for T < 0.12 GeV\n",
    "grhonulow(T) = 1.353*Sfit(me/T)^(4/3); # eff. DoF for neutrino energy density for T < 0.12 GeV\n",
    "gsnulow(T) = 1.923*Sfit(me/T); # eff. DoF for neutrino entropy for T < 0.12 GeV"
   ]
  },
  {
   "cell_type": "code",
   "execution_count": 11,
   "id": "2bb3d779-7861-42a9-a72e-c098e1cd0fd1",
   "metadata": {},
   "outputs": [],
   "source": [
    "# T < 0.12 GeV\n",
    "rhogammalow(T) = π^2/30*grhogammalow(T)*T^4; # photon energy density\n",
    "sgammalow(T) = 2*π^2/45*gsgammalow(T)*T^3; # photon entropy\n",
    "rhonulow(T) = π^2/30*grhonulow(T)*T^4; # neutrino energy density\n",
    "snulow(T) = 2*π^2/45*gsnulow(T)*T^3; # neutrino entropy\n",
    "pgammalow(T) = T*sgammalow(T) - rhogammalow(T); # photon pressure\n",
    "pnulow(T) = Tnu(T)*snulow(T) - rhonulow(T); # neutrino pressure\n",
    "rholow(T) = rhogammalow(T) + rhonulow(T); # total energy density\n",
    "plow(T) = pgammalow(T) + pnulow(T); # total pressure"
   ]
  },
  {
   "cell_type": "code",
   "execution_count": 22,
   "id": "4a9d9f96-10ca-4fb9-8061-1a22fb155387",
   "metadata": {},
   "outputs": [],
   "source": [
    "function grho(T)\n",
    "    if T >= Tth\n",
    "        return grhohigh(T)\n",
    "    else\n",
    "        return grhogammalow(T) + grhonulow(T)\n",
    "    end\n",
    "end;\n",
    "\n",
    "Tp = symbols(\"Tp\");\n",
    "function grhop(T) \n",
    "    if T >= Tth\n",
    "        return diff(grhohigh(Tp)).subs(Tp,T)\n",
    "    else\n",
    "        return diff(grhogammalow(Tp) + grhonulow(Tp)).subs(Tp,T) \n",
    "    end\n",
    "end;\n",
    "\n",
    "function gs(T)\n",
    "    if T >= Tth\n",
    "        return gshigh(T)\n",
    "    else\n",
    "        return gsgammalow(T) + gsnulow(T)\n",
    "    end\n",
    "end;"
   ]
  },
  {
   "cell_type": "code",
   "execution_count": 20,
   "id": "0fc3b2bd-a54e-4050-9ec2-9b3a2b2df570",
   "metadata": {
    "tags": []
   },
   "outputs": [
    {
     "ename": "LoadError",
     "evalue": "MethodError: no method matching getindex(::typeof(grhogammalow), ::Float64)",
     "output_type": "error",
     "traceback": [
      "MethodError: no method matching getindex(::typeof(grhogammalow), ::Float64)",
      "",
      "Stacktrace:",
      " [1] grho(T::Float64)",
      "   @ Main ./In[12]:5",
      " [2] _broadcast_getindex_evalf",
      "   @ Base.Broadcast ./broadcast.jl:709 [inlined]",
      " [3] _broadcast_getindex",
      "   @ Base.Broadcast ./broadcast.jl:682 [inlined]",
      " [4] getindex",
      "   @ Base.Broadcast ./broadcast.jl:636 [inlined]",
      " [5] copy",
      "   @ Base.Broadcast ./broadcast.jl:942 [inlined]",
      " [6] materialize(bc::Base.Broadcast.Broadcasted{Base.Broadcast.DefaultArrayStyle{1}, Nothing, typeof(grho), Tuple{Vector{Float64}}})",
      "   @ Base.Broadcast ./broadcast.jl:903",
      " [7] top-level scope",
      "   @ In[20]:2"
     ]
    }
   ],
   "source": [
    "Tlist = [10^i for i=-6:0.01:3]\n",
    "grholist = grho.(Tlist)\n",
    "gslist = gs.(Tlist)\n",
    "plot(log10.(Tlist),grholist)\n",
    "plot!(log10.(Tlist),gslist)"
   ]
  },
  {
   "cell_type": "code",
   "execution_count": 21,
   "id": "933d444a-99e9-42a4-be5a-55dbde602df4",
   "metadata": {},
   "outputs": [
    {
     "ename": "LoadError",
     "evalue": "MethodError: no method matching getindex(::typeof(grhogammalow), ::Float64)",
     "output_type": "error",
     "traceback": [
      "MethodError: no method matching getindex(::typeof(grhogammalow), ::Float64)",
      "",
      "Stacktrace:",
      " [1] grho(T::Float64)",
      "   @ Main ./In[12]:5",
      " [2] top-level scope",
      "   @ In[21]:2"
     ]
    }
   ],
   "source": [
    "Tlist[1]\n",
    "grho(1e-6)"
   ]
  },
  {
   "cell_type": "code",
   "execution_count": 51,
   "id": "c5175f16-d1f7-4c61-8406-375590a8adf2",
   "metadata": {},
   "outputs": [
    {
     "ename": "LoadError",
     "evalue": "UndefVarError: `clear!` not defined",
     "output_type": "error",
     "traceback": [
      "UndefVarError: `clear!` not defined",
      "",
      "Stacktrace:",
      " [1] top-level scope",
      "   @ In[51]:1"
     ]
    }
   ],
   "source": [
    "clear!(:grho)"
   ]
  },
  {
   "cell_type": "code",
   "execution_count": null,
   "id": "81cb42b0-e9d6-4866-9b5b-67395792a5b8",
   "metadata": {},
   "outputs": [],
   "source": []
  }
 ],
 "metadata": {
  "kernelspec": {
   "display_name": "Julia 1.10.0",
   "language": "julia",
   "name": "julia-1.10"
  },
  "language_info": {
   "file_extension": ".jl",
   "mimetype": "application/julia",
   "name": "julia",
   "version": "1.10.0"
  }
 },
 "nbformat": 4,
 "nbformat_minor": 5
}
