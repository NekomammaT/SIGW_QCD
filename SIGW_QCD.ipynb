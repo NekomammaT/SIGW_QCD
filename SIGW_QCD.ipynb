{
 "cells": [
  {
   "cell_type": "code",
   "execution_count": 13,
   "id": "aa359675-8a63-4ec1-bd4a-6f480ae3e596",
   "metadata": {},
   "outputs": [
    {
     "data": {
      "text/plain": [
       "0.674"
      ]
     },
     "execution_count": 13,
     "metadata": {},
     "output_type": "execute_result"
    }
   ],
   "source": [
    "Mpl = 2.435e18 # reduced Planck mass in GeV\n",
    "c = 299792458 # speed of light in m/s\n",
    "KinGeV = (1.160e4)^-1 * 10^-9 # Kelvin in GeV\n",
    "Mpcinm = 3.086e16 * 10^6 # Mpc in m\n",
    "GeVinminv = 10^9/(1.973e-7) # GeV in m^-1\n",
    "GeVinMpcinv = GeVinminv * Mpcinm # GeV in Mpc^-1\n",
    "MpcinvinHz = c/Mpcinm # Mpc^inv in Hz\n",
    "yrins = 365.2422 * 24 * 60 * 60 # yr in s\n",
    "\n",
    "Or0h2 = 4.2e-5 # current radiation density parameter * h^2\n",
    "Hubblh = 0.674 # normalised Hubble parameter h"
   ]
  },
  {
   "cell_type": "code",
   "execution_count": null,
   "id": "c624efd8-cb94-4877-a869-ae41cc37b580",
   "metadata": {},
   "outputs": [],
   "source": []
  }
 ],
 "metadata": {
  "kernelspec": {
   "display_name": "Julia 1.7.2",
   "language": "julia",
   "name": "julia-1.7"
  },
  "language_info": {
   "file_extension": ".jl",
   "mimetype": "application/julia",
   "name": "julia",
   "version": "1.7.2"
  }
 },
 "nbformat": 4,
 "nbformat_minor": 5
}
